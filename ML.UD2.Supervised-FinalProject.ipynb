{
 "cells": [
  {
   "cell_type": "markdown",
   "source": [
    "# Proyecto Final UD2\n",
    "#### UD2. Aprendizaxe Supervisada\n",
    "#### MP. Sistemas de Aprendizaxe Automáticos\n",
    "#### IES de Teis (Vigo), Cristina Gómez Alonso\n",
    "\n",
    "En este proyecto, los alumnos del módulo de Machine Learning deberán demostrar los conocimientos adquiridos durante la UD2 y aplicar al menos dos algoritmos diferentes de aprendizaje supervisado vistos en clase (KNN, Regresión Lineal, Regresión Logística, Árboles de Decisión, SVM).\n",
    "\n",
    "Para ello, tomaremos como referencia el dataset credit_train.csv y credit_test.csv que contienen la información sobre una campaña de márketing llevada a cabo mediante llamadas teléfonicas para captar clientes que quieran acceder a un crédito.\n",
    "\n",
    "**Features o Input variables:**\n",
    "\n",
    "1 - age: edad numérica\n",
    "2 - job : tipo de trabajo (puede tomar los valores: 'admin.','blue-collar','entrepreneur','housemaid','management','retired','self-employed','services','student','technician','unemployed','unknown')\n",
    "3 - marital : estado civil (puede tomar los valores: 'divorced','married','single','unknown'; note: 'divorced' means divorced or widowed)\n",
    "4 - education : nivel de estudios (puede tomar los valores: 'basic.4y','basic.6y','basic.9y','high.school','illiterate','professional.course','university.degree','unknown')\n",
    "5 - default: ya tiene un crédito solicitado por defecto? (puede tomar los valores: 'no','yes','unknown')\n",
    "6 - housing: tiene hipoteca? (puede tomar los valores: 'no','yes','unknown')\n",
    "7 - loan: tiene una cuenta personal? (puede tomar los valores: 'no','yes','unknown')\n",
    "8 - contact: tipo de comunicación de contacto (puede tomar los valores: 'cellular','telephone')\n",
    "9 - month: último mes de contacto (puede tomar los valores: 'jan', 'feb', 'mar', ..., 'nov', 'dec')\n",
    "10 - day_of_week: último día de la semana en el que se le ha contactado (puede tomar los valores: 'mon','tue','wed','thu','fri')\n",
    "11 - duration: duración del último contacto en segundos (numérico). Importante: este atributo afecta en gran medida a la salida ya que si duration es 0, entonces  la salida es 'no')\n",
    "12 - campaign: número de veces que se le ha contactado durante la campaña a este cliente (numérico, incluye el último contacto)\n",
    "13 - pdays: número de días que han pasado desde que el cliente fue contactado por última vez(numérico; 999 significa que no ha sido contactado anteriormente)\n",
    "14 - previous: número de contactos anteriores a esta campaña a este cliente(numérico)\n",
    "15 - poutcome: resultado de la última campaña de marketing (categorical: 'failure','nonexistent','success')\n",
    "16 - emp.var.rate: employment variation rate - quarterly indicator (numeric)\n",
    "17 - cons.price.idx: IPC - indicador mensual (numérico)\n",
    "18 - cons.conf.idx: índice de confianza de los consumidores - indicador mensual (numérico)\n",
    "19 - euribor3m: euribor tasa 3 meses - indicador diario (numérico)\n",
    "20 - nr.employed: número de trabajadores - indicador en porciones  (numérico)\n",
    "\n",
    "**Output variable (desired target):**\n",
    "21 - y - Suscripción al crédito por parte del cliente? (binary: 'yes','no')\n",
    "\n",
    "Los requisitos mínimos de este proyecto consisten en:\n",
    "\n",
    "* Etapas comunes 1, 2 y 3 de importación, análisis numérico y visual, así como preprocesado.\n",
    "* Para cada algoritmo que apliques deberás de mantener la siguiente estructura de 5 etapas (del 4-8), pero puedes añadir subapartados o etapas adicionales.\n",
    "* En cada etapa se deben añadir explicaciones justificativas de lo que se quiere hacer, así como de los resultados obtenidos.\n",
    "* Como resultado final, se deben contrastar los resultados obtenidos y comparar los algoritmos utilizados indicando claramente cual y porqué obtiene mejor resultados.\n",
    "\n",
    "Cualificaciones:\n",
    "- Uso de 2 algoritmos: cualificación máxima de 7 puntos\n",
    "- Uso de 3 algoritmos: cualificación máxima de 9 puntos.\n",
    "- Almacenaje de los datasets en AWS S3 y uso de 3 algoritmos: cualificación máxima de 10 puntos.\n",
    "\n",
    "Uso de GIT para \n",
    "\n"
   ],
   "metadata": {
    "collapsed": false,
    "id": "si5yJFW7PkGA"
   }
  },
  {
   "cell_type": "markdown",
   "source": [
    "## 1. Importación de paquetes y dataset"
   ],
   "metadata": {
    "id": "sPx3SNlcQJFP"
   }
  },
  {
   "cell_type": "code",
   "execution_count": 1,
   "outputs": [],
   "source": [
    "import pandas as pd\n",
    "import matplotlib.pyplot as plt\n",
    "import seaborn as sns\n",
    "import numpy as np\n"
   ],
   "metadata": {
    "collapsed": false,
    "pycharm": {
     "name": "#%%\n"
    }
   }
  },
  {
   "cell_type": "code",
   "execution_count": 2,
   "outputs": [],
   "source": [
    "dftest = pd.read_csv(\"data/credit-test.csv\")\n",
    "dftrain = pd.read_csv(\"data/credit-train.csv\")"
   ],
   "metadata": {
    "pycharm": {
     "name": "#%%\n"
    },
    "id": "boOaiuiKPkGG"
   }
  },
  {
   "cell_type": "markdown",
   "source": [
    "## 2.EDA y Visual EDA"
   ],
   "metadata": {
    "collapsed": false,
    "pycharm": {
     "name": "#%% md\n"
    },
    "id": "DAnH4tREPkGH"
   }
  },
  {
   "cell_type": "code",
   "execution_count": 3,
   "outputs": [
    {
     "data": {
      "text/plain": "   age          job  marital          education  default housing loan  \\\n0   44  blue-collar  married           basic.4y  unknown     yes   no   \n1   53   technician  married            unknown       no      no   no   \n2   28   management   single  university.degree       no     yes   no   \n3   39     services  married        high.school       no      no   no   \n4   55      retired  married           basic.4y       no     yes   no   \n\n    contact month day_of_week  ...  campaign  pdays  previous     poutcome  \\\n0  cellular   aug         thu  ...         1    999         0  nonexistent   \n1  cellular   nov         fri  ...         1    999         0  nonexistent   \n2  cellular   jun         thu  ...         3      6         2      success   \n3  cellular   apr         fri  ...         2    999         0  nonexistent   \n4  cellular   aug         fri  ...         1      3         1      success   \n\n  emp_var_rate  cons_price_idx  cons_conf_idx  euribor3m  nr_employed  y  \n0          1.4          93.444          -36.1      4.963       5228.1  0  \n1         -0.1          93.200          -42.0      4.021       5195.8  0  \n2         -1.7          94.055          -39.8      0.729       4991.6  1  \n3         -1.8          93.075          -47.1      1.405       5099.1  0  \n4         -2.9          92.201          -31.4      0.869       5076.2  1  \n\n[5 rows x 21 columns]",
      "text/html": "<div>\n<style scoped>\n    .dataframe tbody tr th:only-of-type {\n        vertical-align: middle;\n    }\n\n    .dataframe tbody tr th {\n        vertical-align: top;\n    }\n\n    .dataframe thead th {\n        text-align: right;\n    }\n</style>\n<table border=\"1\" class=\"dataframe\">\n  <thead>\n    <tr style=\"text-align: right;\">\n      <th></th>\n      <th>age</th>\n      <th>job</th>\n      <th>marital</th>\n      <th>education</th>\n      <th>default</th>\n      <th>housing</th>\n      <th>loan</th>\n      <th>contact</th>\n      <th>month</th>\n      <th>day_of_week</th>\n      <th>...</th>\n      <th>campaign</th>\n      <th>pdays</th>\n      <th>previous</th>\n      <th>poutcome</th>\n      <th>emp_var_rate</th>\n      <th>cons_price_idx</th>\n      <th>cons_conf_idx</th>\n      <th>euribor3m</th>\n      <th>nr_employed</th>\n      <th>y</th>\n    </tr>\n  </thead>\n  <tbody>\n    <tr>\n      <th>0</th>\n      <td>44</td>\n      <td>blue-collar</td>\n      <td>married</td>\n      <td>basic.4y</td>\n      <td>unknown</td>\n      <td>yes</td>\n      <td>no</td>\n      <td>cellular</td>\n      <td>aug</td>\n      <td>thu</td>\n      <td>...</td>\n      <td>1</td>\n      <td>999</td>\n      <td>0</td>\n      <td>nonexistent</td>\n      <td>1.4</td>\n      <td>93.444</td>\n      <td>-36.1</td>\n      <td>4.963</td>\n      <td>5228.1</td>\n      <td>0</td>\n    </tr>\n    <tr>\n      <th>1</th>\n      <td>53</td>\n      <td>technician</td>\n      <td>married</td>\n      <td>unknown</td>\n      <td>no</td>\n      <td>no</td>\n      <td>no</td>\n      <td>cellular</td>\n      <td>nov</td>\n      <td>fri</td>\n      <td>...</td>\n      <td>1</td>\n      <td>999</td>\n      <td>0</td>\n      <td>nonexistent</td>\n      <td>-0.1</td>\n      <td>93.200</td>\n      <td>-42.0</td>\n      <td>4.021</td>\n      <td>5195.8</td>\n      <td>0</td>\n    </tr>\n    <tr>\n      <th>2</th>\n      <td>28</td>\n      <td>management</td>\n      <td>single</td>\n      <td>university.degree</td>\n      <td>no</td>\n      <td>yes</td>\n      <td>no</td>\n      <td>cellular</td>\n      <td>jun</td>\n      <td>thu</td>\n      <td>...</td>\n      <td>3</td>\n      <td>6</td>\n      <td>2</td>\n      <td>success</td>\n      <td>-1.7</td>\n      <td>94.055</td>\n      <td>-39.8</td>\n      <td>0.729</td>\n      <td>4991.6</td>\n      <td>1</td>\n    </tr>\n    <tr>\n      <th>3</th>\n      <td>39</td>\n      <td>services</td>\n      <td>married</td>\n      <td>high.school</td>\n      <td>no</td>\n      <td>no</td>\n      <td>no</td>\n      <td>cellular</td>\n      <td>apr</td>\n      <td>fri</td>\n      <td>...</td>\n      <td>2</td>\n      <td>999</td>\n      <td>0</td>\n      <td>nonexistent</td>\n      <td>-1.8</td>\n      <td>93.075</td>\n      <td>-47.1</td>\n      <td>1.405</td>\n      <td>5099.1</td>\n      <td>0</td>\n    </tr>\n    <tr>\n      <th>4</th>\n      <td>55</td>\n      <td>retired</td>\n      <td>married</td>\n      <td>basic.4y</td>\n      <td>no</td>\n      <td>yes</td>\n      <td>no</td>\n      <td>cellular</td>\n      <td>aug</td>\n      <td>fri</td>\n      <td>...</td>\n      <td>1</td>\n      <td>3</td>\n      <td>1</td>\n      <td>success</td>\n      <td>-2.9</td>\n      <td>92.201</td>\n      <td>-31.4</td>\n      <td>0.869</td>\n      <td>5076.2</td>\n      <td>1</td>\n    </tr>\n  </tbody>\n</table>\n<p>5 rows × 21 columns</p>\n</div>"
     },
     "execution_count": 3,
     "metadata": {},
     "output_type": "execute_result"
    }
   ],
   "source": [
    "dftrain.head()"
   ],
   "metadata": {
    "collapsed": false,
    "pycharm": {
     "name": "#%%\n"
    }
   }
  },
  {
   "cell_type": "code",
   "execution_count": 4,
   "outputs": [
    {
     "data": {
      "text/plain": "   age          job  marital          education default  housing     loan  \\\n0   30  blue-collar  married           basic.9y      no      yes       no   \n1   39     services   single        high.school      no       no       no   \n2   25     services  married        high.school      no      yes       no   \n3   38     services  married           basic.9y      no  unknown  unknown   \n4   47       admin.  married  university.degree      no      yes       no   \n\n     contact month day_of_week  duration  campaign  pdays  previous  \\\n0   cellular   may         fri       487         2    999         0   \n1  telephone   may         fri       346         4    999         0   \n2  telephone   jun         wed       227         1    999         0   \n3  telephone   jun         fri        17         3    999         0   \n4   cellular   nov         mon        58         1    999         0   \n\n      poutcome  emp_var_rate  cons_price_idx  cons_conf_idx  euribor3m  \\\n0  nonexistent          -1.8          92.893          -46.2      1.313   \n1  nonexistent           1.1          93.994          -36.4      4.855   \n2  nonexistent           1.4          94.465          -41.8      4.962   \n3  nonexistent           1.4          94.465          -41.8      4.959   \n4  nonexistent          -0.1          93.200          -42.0      4.191   \n\n   nr_employed  \n0       5099.1  \n1       5191.0  \n2       5228.1  \n3       5228.1  \n4       5195.8  ",
      "text/html": "<div>\n<style scoped>\n    .dataframe tbody tr th:only-of-type {\n        vertical-align: middle;\n    }\n\n    .dataframe tbody tr th {\n        vertical-align: top;\n    }\n\n    .dataframe thead th {\n        text-align: right;\n    }\n</style>\n<table border=\"1\" class=\"dataframe\">\n  <thead>\n    <tr style=\"text-align: right;\">\n      <th></th>\n      <th>age</th>\n      <th>job</th>\n      <th>marital</th>\n      <th>education</th>\n      <th>default</th>\n      <th>housing</th>\n      <th>loan</th>\n      <th>contact</th>\n      <th>month</th>\n      <th>day_of_week</th>\n      <th>duration</th>\n      <th>campaign</th>\n      <th>pdays</th>\n      <th>previous</th>\n      <th>poutcome</th>\n      <th>emp_var_rate</th>\n      <th>cons_price_idx</th>\n      <th>cons_conf_idx</th>\n      <th>euribor3m</th>\n      <th>nr_employed</th>\n    </tr>\n  </thead>\n  <tbody>\n    <tr>\n      <th>0</th>\n      <td>30</td>\n      <td>blue-collar</td>\n      <td>married</td>\n      <td>basic.9y</td>\n      <td>no</td>\n      <td>yes</td>\n      <td>no</td>\n      <td>cellular</td>\n      <td>may</td>\n      <td>fri</td>\n      <td>487</td>\n      <td>2</td>\n      <td>999</td>\n      <td>0</td>\n      <td>nonexistent</td>\n      <td>-1.8</td>\n      <td>92.893</td>\n      <td>-46.2</td>\n      <td>1.313</td>\n      <td>5099.1</td>\n    </tr>\n    <tr>\n      <th>1</th>\n      <td>39</td>\n      <td>services</td>\n      <td>single</td>\n      <td>high.school</td>\n      <td>no</td>\n      <td>no</td>\n      <td>no</td>\n      <td>telephone</td>\n      <td>may</td>\n      <td>fri</td>\n      <td>346</td>\n      <td>4</td>\n      <td>999</td>\n      <td>0</td>\n      <td>nonexistent</td>\n      <td>1.1</td>\n      <td>93.994</td>\n      <td>-36.4</td>\n      <td>4.855</td>\n      <td>5191.0</td>\n    </tr>\n    <tr>\n      <th>2</th>\n      <td>25</td>\n      <td>services</td>\n      <td>married</td>\n      <td>high.school</td>\n      <td>no</td>\n      <td>yes</td>\n      <td>no</td>\n      <td>telephone</td>\n      <td>jun</td>\n      <td>wed</td>\n      <td>227</td>\n      <td>1</td>\n      <td>999</td>\n      <td>0</td>\n      <td>nonexistent</td>\n      <td>1.4</td>\n      <td>94.465</td>\n      <td>-41.8</td>\n      <td>4.962</td>\n      <td>5228.1</td>\n    </tr>\n    <tr>\n      <th>3</th>\n      <td>38</td>\n      <td>services</td>\n      <td>married</td>\n      <td>basic.9y</td>\n      <td>no</td>\n      <td>unknown</td>\n      <td>unknown</td>\n      <td>telephone</td>\n      <td>jun</td>\n      <td>fri</td>\n      <td>17</td>\n      <td>3</td>\n      <td>999</td>\n      <td>0</td>\n      <td>nonexistent</td>\n      <td>1.4</td>\n      <td>94.465</td>\n      <td>-41.8</td>\n      <td>4.959</td>\n      <td>5228.1</td>\n    </tr>\n    <tr>\n      <th>4</th>\n      <td>47</td>\n      <td>admin.</td>\n      <td>married</td>\n      <td>university.degree</td>\n      <td>no</td>\n      <td>yes</td>\n      <td>no</td>\n      <td>cellular</td>\n      <td>nov</td>\n      <td>mon</td>\n      <td>58</td>\n      <td>1</td>\n      <td>999</td>\n      <td>0</td>\n      <td>nonexistent</td>\n      <td>-0.1</td>\n      <td>93.200</td>\n      <td>-42.0</td>\n      <td>4.191</td>\n      <td>5195.8</td>\n    </tr>\n  </tbody>\n</table>\n</div>"
     },
     "execution_count": 4,
     "metadata": {},
     "output_type": "execute_result"
    }
   ],
   "source": [
    "dftest.head()"
   ],
   "metadata": {
    "collapsed": false,
    "pycharm": {
     "name": "#%%\n"
    }
   }
  },
  {
   "cell_type": "code",
   "execution_count": 5,
   "outputs": [
    {
     "data": {
      "text/plain": "               age     duration     campaign        pdays     previous  \\\ncount  4119.000000  4119.000000  4119.000000  4119.000000  4119.000000   \nmean     40.113620   256.788055     2.537266   960.422190     0.190337   \nstd      10.313362   254.703736     2.568159   191.922786     0.541788   \nmin      18.000000     0.000000     1.000000     0.000000     0.000000   \n25%      32.000000   103.000000     1.000000   999.000000     0.000000   \n50%      38.000000   181.000000     2.000000   999.000000     0.000000   \n75%      47.000000   317.000000     3.000000   999.000000     0.000000   \nmax      88.000000  3643.000000    35.000000   999.000000     6.000000   \n\n       emp_var_rate  cons_price_idx  cons_conf_idx    euribor3m  nr_employed  \ncount   4119.000000     4119.000000    4119.000000  4119.000000  4119.000000  \nmean       0.084972       93.579704     -40.499102     3.621356  5166.481695  \nstd        1.563114        0.579349       4.594578     1.733591    73.667904  \nmin       -3.400000       92.201000     -50.800000     0.635000  4963.600000  \n25%       -1.800000       93.075000     -42.700000     1.334000  5099.100000  \n50%        1.100000       93.749000     -41.800000     4.857000  5191.000000  \n75%        1.400000       93.994000     -36.400000     4.961000  5228.100000  \nmax        1.400000       94.767000     -26.900000     5.045000  5228.100000  ",
      "text/html": "<div>\n<style scoped>\n    .dataframe tbody tr th:only-of-type {\n        vertical-align: middle;\n    }\n\n    .dataframe tbody tr th {\n        vertical-align: top;\n    }\n\n    .dataframe thead th {\n        text-align: right;\n    }\n</style>\n<table border=\"1\" class=\"dataframe\">\n  <thead>\n    <tr style=\"text-align: right;\">\n      <th></th>\n      <th>age</th>\n      <th>duration</th>\n      <th>campaign</th>\n      <th>pdays</th>\n      <th>previous</th>\n      <th>emp_var_rate</th>\n      <th>cons_price_idx</th>\n      <th>cons_conf_idx</th>\n      <th>euribor3m</th>\n      <th>nr_employed</th>\n    </tr>\n  </thead>\n  <tbody>\n    <tr>\n      <th>count</th>\n      <td>4119.000000</td>\n      <td>4119.000000</td>\n      <td>4119.000000</td>\n      <td>4119.000000</td>\n      <td>4119.000000</td>\n      <td>4119.000000</td>\n      <td>4119.000000</td>\n      <td>4119.000000</td>\n      <td>4119.000000</td>\n      <td>4119.000000</td>\n    </tr>\n    <tr>\n      <th>mean</th>\n      <td>40.113620</td>\n      <td>256.788055</td>\n      <td>2.537266</td>\n      <td>960.422190</td>\n      <td>0.190337</td>\n      <td>0.084972</td>\n      <td>93.579704</td>\n      <td>-40.499102</td>\n      <td>3.621356</td>\n      <td>5166.481695</td>\n    </tr>\n    <tr>\n      <th>std</th>\n      <td>10.313362</td>\n      <td>254.703736</td>\n      <td>2.568159</td>\n      <td>191.922786</td>\n      <td>0.541788</td>\n      <td>1.563114</td>\n      <td>0.579349</td>\n      <td>4.594578</td>\n      <td>1.733591</td>\n      <td>73.667904</td>\n    </tr>\n    <tr>\n      <th>min</th>\n      <td>18.000000</td>\n      <td>0.000000</td>\n      <td>1.000000</td>\n      <td>0.000000</td>\n      <td>0.000000</td>\n      <td>-3.400000</td>\n      <td>92.201000</td>\n      <td>-50.800000</td>\n      <td>0.635000</td>\n      <td>4963.600000</td>\n    </tr>\n    <tr>\n      <th>25%</th>\n      <td>32.000000</td>\n      <td>103.000000</td>\n      <td>1.000000</td>\n      <td>999.000000</td>\n      <td>0.000000</td>\n      <td>-1.800000</td>\n      <td>93.075000</td>\n      <td>-42.700000</td>\n      <td>1.334000</td>\n      <td>5099.100000</td>\n    </tr>\n    <tr>\n      <th>50%</th>\n      <td>38.000000</td>\n      <td>181.000000</td>\n      <td>2.000000</td>\n      <td>999.000000</td>\n      <td>0.000000</td>\n      <td>1.100000</td>\n      <td>93.749000</td>\n      <td>-41.800000</td>\n      <td>4.857000</td>\n      <td>5191.000000</td>\n    </tr>\n    <tr>\n      <th>75%</th>\n      <td>47.000000</td>\n      <td>317.000000</td>\n      <td>3.000000</td>\n      <td>999.000000</td>\n      <td>0.000000</td>\n      <td>1.400000</td>\n      <td>93.994000</td>\n      <td>-36.400000</td>\n      <td>4.961000</td>\n      <td>5228.100000</td>\n    </tr>\n    <tr>\n      <th>max</th>\n      <td>88.000000</td>\n      <td>3643.000000</td>\n      <td>35.000000</td>\n      <td>999.000000</td>\n      <td>6.000000</td>\n      <td>1.400000</td>\n      <td>94.767000</td>\n      <td>-26.900000</td>\n      <td>5.045000</td>\n      <td>5228.100000</td>\n    </tr>\n  </tbody>\n</table>\n</div>"
     },
     "execution_count": 5,
     "metadata": {},
     "output_type": "execute_result"
    }
   ],
   "source": [
    "dftest.describe()"
   ],
   "metadata": {
    "pycharm": {
     "name": "#%%\n"
    },
    "id": "ESS1ZR6QPkGH"
   }
  },
  {
   "cell_type": "code",
   "execution_count": 12,
   "outputs": [],
   "source": [],
   "metadata": {
    "collapsed": false,
    "pycharm": {
     "name": "#%%\n"
    }
   }
  },
  {
   "cell_type": "markdown",
   "source": [
    "## 3. Preprocessing data\n"
   ],
   "metadata": {
    "collapsed": false,
    "id": "pm5jiBq9PkGI"
   }
  },
  {
   "cell_type": "markdown",
   "source": [
    "Check for missing values"
   ],
   "metadata": {
    "collapsed": false
   }
  },
  {
   "cell_type": "code",
   "execution_count": 13,
   "outputs": [
    {
     "name": "stdout",
     "output_type": "stream",
     "text": [
      "The correlation DataFrame is:\n",
      "                     age  duration  campaign     pdays  previous  \\\n",
      "age             1.000000 -0.000866  0.004594 -0.034369  0.024365   \n",
      "duration       -0.000866  1.000000 -0.071699 -0.047577  0.020640   \n",
      "campaign        0.004594 -0.071699  1.000000  0.052584 -0.079141   \n",
      "pdays          -0.034369 -0.047577  0.052584  1.000000 -0.587514   \n",
      "previous        0.024365  0.020640 -0.079141 -0.587514  1.000000   \n",
      "emp_var_rate   -0.000371 -0.027968  0.150754  0.271004 -0.420489   \n",
      "cons_price_idx  0.000857  0.005312  0.127836  0.078889 -0.203130   \n",
      "cons_conf_idx   0.129372 -0.008173 -0.013733 -0.091342 -0.050936   \n",
      "euribor3m       0.010767 -0.032897  0.135133  0.296899 -0.454494   \n",
      "nr_employed    -0.017725 -0.044703  0.144095  0.372605 -0.501333   \n",
      "y               0.030399  0.405274 -0.066357 -0.324914  0.230181   \n",
      "\n",
      "                emp_var_rate  cons_price_idx  cons_conf_idx  euribor3m  \\\n",
      "age                -0.000371        0.000857       0.129372   0.010767   \n",
      "duration           -0.027968        0.005312      -0.008173  -0.032897   \n",
      "campaign            0.150754        0.127836      -0.013733   0.135133   \n",
      "pdays               0.271004        0.078889      -0.091342   0.296899   \n",
      "previous           -0.420489       -0.203130      -0.050936  -0.454494   \n",
      "emp_var_rate        1.000000        0.775334       0.196041   0.972245   \n",
      "cons_price_idx      0.775334        1.000000       0.058986   0.688230   \n",
      "cons_conf_idx       0.196041        0.058986       1.000000   0.277686   \n",
      "euribor3m           0.972245        0.688230       0.277686   1.000000   \n",
      "nr_employed         0.906970        0.522034       0.100513   0.945154   \n",
      "y                  -0.298334       -0.136211       0.054878  -0.307771   \n",
      "\n",
      "                nr_employed         y  \n",
      "age               -0.017725  0.030399  \n",
      "duration          -0.044703  0.405274  \n",
      "campaign           0.144095 -0.066357  \n",
      "pdays              0.372605 -0.324914  \n",
      "previous          -0.501333  0.230181  \n",
      "emp_var_rate       0.906970 -0.298334  \n",
      "cons_price_idx     0.522034 -0.136211  \n",
      "cons_conf_idx      0.100513  0.054878  \n",
      "euribor3m          0.945154 -0.307771  \n",
      "nr_employed        1.000000 -0.354678  \n",
      "y                 -0.354678  1.000000   \n",
      "\n"
     ]
    }
   ],
   "source": [
    "corr_df = dftrain.corr()\n",
    "print(\"The correlation DataFrame is:\")\n",
    "print(corr_df, \"\\n\")"
   ],
   "metadata": {
    "collapsed": false,
    "pycharm": {
     "name": "#%%\n"
    }
   }
  },
  {
   "cell_type": "code",
   "execution_count": 11,
   "outputs": [
    {
     "name": "stdout",
     "output_type": "stream",
     "text": [
      "age has NO missing value!\n",
      "job has NO missing value!\n",
      "marital has NO missing value!\n",
      "education has NO missing value!\n",
      "default has NO missing value!\n",
      "housing has NO missing value!\n",
      "loan has NO missing value!\n",
      "contact has NO missing value!\n",
      "month has NO missing value!\n",
      "day_of_week has NO missing value!\n",
      "duration has NO missing value!\n",
      "campaign has NO missing value!\n",
      "pdays has NO missing value!\n",
      "previous has NO missing value!\n",
      "poutcome has NO missing value!\n",
      "emp_var_rate has NO missing value!\n",
      "cons_price_idx has NO missing value!\n",
      "cons_conf_idx has NO missing value!\n",
      "euribor3m has NO missing value!\n",
      "nr_employed has NO missing value!\n",
      "y has NO missing value!\n"
     ]
    }
   ],
   "source": [
    "for c in dftrain.columns:\n",
    "    miss = dftrain[c].isnull().sum()\n",
    "    if miss>0:\n",
    "        print(\"{} has {} missing value(s)\".format(c,miss))\n",
    "    else:\n",
    "        print(\"{} has NO missing value!\".format(c))"
   ],
   "metadata": {
    "pycharm": {
     "name": "#%%\n"
    },
    "id": "B9ucviwMPkGI"
   }
  },
  {
   "cell_type": "code",
   "execution_count": 10,
   "outputs": [
    {
     "name": "stdout",
     "output_type": "stream",
     "text": [
      "age has NO missing value!\n",
      "job has NO missing value!\n",
      "marital has NO missing value!\n",
      "education has NO missing value!\n",
      "default has NO missing value!\n",
      "housing has NO missing value!\n",
      "loan has NO missing value!\n",
      "contact has NO missing value!\n",
      "month has NO missing value!\n",
      "day_of_week has NO missing value!\n",
      "duration has NO missing value!\n",
      "campaign has NO missing value!\n",
      "pdays has NO missing value!\n",
      "previous has NO missing value!\n",
      "poutcome has NO missing value!\n",
      "emp_var_rate has NO missing value!\n",
      "cons_price_idx has NO missing value!\n",
      "cons_conf_idx has NO missing value!\n",
      "euribor3m has NO missing value!\n",
      "nr_employed has NO missing value!\n"
     ]
    }
   ],
   "source": [
    "for c in dftest.columns:\n",
    "    miss = dftest[c].isnull().sum()\n",
    "    if miss>0:\n",
    "        print(\"{} has {} missing value(s)\".format(c,miss))\n",
    "    else:\n",
    "        print(\"{} has NO missing value!\".format(c))"
   ],
   "metadata": {
    "collapsed": false,
    "pycharm": {
     "name": "#%%\n"
    }
   }
  },
  {
   "cell_type": "code",
   "execution_count": null,
   "outputs": [],
   "source": [
    "sns.set(rc = {'figure.figsize':(15,8)})\n",
    "sns.heatmap(dftrain.corr(),annot=True,linewidths=5)"
   ],
   "metadata": {
    "collapsed": false,
    "pycharm": {
     "name": "#%%\n"
    }
   }
  },
  {
   "cell_type": "markdown",
   "source": [
    "## 4. Creación del modelo y división del dataset"
   ],
   "metadata": {
    "collapsed": false,
    "id": "9A8-mhvoPkGJ"
   }
  },
  {
   "cell_type": "code",
   "execution_count": null,
   "outputs": [],
   "source": [
    ""
   ],
   "metadata": {
    "pycharm": {
     "name": "#%%\n"
    },
    "id": "NOTFpZqOPkGK"
   }
  },
  {
   "cell_type": "markdown",
   "source": [
    "## 5. Entrenamiento"
   ],
   "metadata": {
    "collapsed": false,
    "pycharm": {
     "name": "#%% md\n"
    },
    "id": "4AtPd_inPkGK"
   }
  },
  {
   "cell_type": "code",
   "execution_count": null,
   "outputs": [],
   "source": [
    ""
   ],
   "metadata": {
    "pycharm": {
     "name": "#%%\n"
    },
    "id": "YK6-a7QLPkGL"
   }
  },
  {
   "cell_type": "markdown",
   "source": [
    "## 6. Análisis de resultados"
   ],
   "metadata": {
    "collapsed": false,
    "pycharm": {
     "name": "#%% md\n"
    },
    "id": "J7lwJi8QPkGL"
   }
  },
  {
   "cell_type": "code",
   "execution_count": null,
   "outputs": [],
   "source": [
    ""
   ],
   "metadata": {
    "pycharm": {
     "name": "#%%\n"
    },
    "id": "td5w3c1MPkGM"
   }
  },
  {
   "cell_type": "markdown",
   "source": [
    "## 7. Realización de predicciones"
   ],
   "metadata": {
    "collapsed": false,
    "pycharm": {
     "name": "#%% md\n"
    },
    "id": "VbXf9Ri5PkGM"
   }
  },
  {
   "cell_type": "code",
   "execution_count": null,
   "outputs": [],
   "source": [
    ""
   ],
   "metadata": {
    "pycharm": {
     "name": "#%%\n"
    },
    "id": "bGGq0XC_PkGN"
   }
  },
  {
   "cell_type": "markdown",
   "source": [
    "## 8. Visualización"
   ],
   "metadata": {
    "collapsed": false,
    "pycharm": {
     "name": "#%% md\n"
    },
    "id": "tP154p4pPkGN"
   }
  },
  {
   "cell_type": "code",
   "execution_count": null,
   "outputs": [],
   "source": [
    ""
   ],
   "metadata": {
    "pycharm": {
     "name": "#%%\n"
    },
    "id": "ecu-BJgEPkGO"
   }
  }
 ],
 "metadata": {
  "kernelspec": {
   "display_name": "Python 3",
   "language": "python",
   "name": "python3"
  },
  "language_info": {
   "codemirror_mode": {
    "name": "ipython",
    "version": 3
   },
   "file_extension": ".py",
   "mimetype": "text/x-python",
   "name": "python",
   "nbconvert_exporter": "python",
   "pygments_lexer": "ipython3",
   "version": "3.8.6"
  },
  "colab": {
   "name": "ML.UD2.Supervised-FinalProject.ipynb",
   "provenance": []
  }
 },
 "nbformat": 4,
 "nbformat_minor": 0
}